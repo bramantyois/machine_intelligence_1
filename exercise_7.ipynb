{
 "cells": [
  {
   "cell_type": "markdown",
   "metadata": {},
   "source": [
    "Exercise H62.1: LSTM\n",
    "Group Name: PBJ\n",
    "\n",
    "Members:\n",
    "1. Poulami Ghosh\n",
    "2. Bramantyo Ibrahim Supriyatno\n",
    "3. Julie Morgan"
   ]
  },
  {
   "cell_type": "code",
   "execution_count": 1,
   "metadata": {},
   "outputs": [],
   "source": [
    "import numpy as np\n",
    "import matplotlib.pyplot as plt\n",
    "\n",
    "from keras.layers import LSTM, Dense\n",
    "from keras.models import Sequential\n",
    "from keras.optimizers import Adam"
   ]
  },
  {
   "cell_type": "code",
   "execution_count": 2,
   "metadata": {},
   "outputs": [],
   "source": [
    "num_data = 10000\n",
    "seq_length = 30\n",
    "\n",
    "training_ratio = 0.8"
   ]
  },
  {
   "cell_type": "code",
   "execution_count": 3,
   "metadata": {},
   "outputs": [],
   "source": [
    "data = np.random.choice(\n",
    "    a = np.arange(0,9,1),\n",
    "    size = (num_data, seq_length,1))"
   ]
  },
  {
   "cell_type": "code",
   "execution_count": 4,
   "metadata": {},
   "outputs": [],
   "source": [
    "label = np.sum(data, axis=1) >= 100\n",
    "label = label.astype(int)"
   ]
  },
  {
   "cell_type": "code",
   "execution_count": 5,
   "metadata": {},
   "outputs": [],
   "source": [
    "idx = int(training_ratio * num_data)\n",
    "\n",
    "train_data = data[:idx,:,:]\n",
    "validation_data = data[idx:,:,:]\n",
    "\n",
    "train_label = label[:idx]\n",
    "validation_label = label[idx:]"
   ]
  },
  {
   "cell_type": "code",
   "execution_count": 6,
   "metadata": {},
   "outputs": [],
   "source": [
    "lstm = LSTM(units=200, input_shape=(None, 1))\n",
    "output_layer = Dense(units=1, activation='sigmoid')\n",
    "\n",
    "model = Sequential(\n",
    "    [\n",
    "        lstm, \n",
    "        output_layer\n",
    "    ]\n",
    ")"
   ]
  },
  {
   "cell_type": "code",
   "execution_count": 7,
   "metadata": {},
   "outputs": [
    {
     "name": "stdout",
     "output_type": "stream",
     "text": [
      "Model: \"sequential\"\n",
      "_________________________________________________________________\n",
      "Layer (type)                 Output Shape              Param #   \n",
      "=================================================================\n",
      "lstm (LSTM)                  (None, 200)               161600    \n",
      "_________________________________________________________________\n",
      "dense (Dense)                (None, 1)                 201       \n",
      "=================================================================\n",
      "Total params: 161,801\n",
      "Trainable params: 161,801\n",
      "Non-trainable params: 0\n",
      "_________________________________________________________________\n"
     ]
    }
   ],
   "source": [
    "opt_adam = Adam(learning_rate=1e-3, beta_1=0.9, beta_2=0.999, epsilon=1e-8)\n",
    "\n",
    "model.compile(\n",
    "    loss='binary_crossentropy',\n",
    "    optimizer=opt_adam,\n",
    "    metrics=['accuracy']\n",
    ")\n",
    "\n",
    "model.summary()"
   ]
  },
  {
   "cell_type": "code",
   "execution_count": 8,
   "metadata": {},
   "outputs": [
    {
     "name": "stdout",
     "output_type": "stream",
     "text": [
      "Epoch 1/60\n",
      "160/160 - 1s - loss: 0.1824 - accuracy: 0.9355 - val_loss: 0.1437 - val_accuracy: 0.9350\n",
      "Epoch 2/60\n",
      "160/160 - 1s - loss: 0.0858 - accuracy: 0.9639 - val_loss: 0.0718 - val_accuracy: 0.9830\n",
      "Epoch 3/60\n",
      "160/160 - 1s - loss: 0.0850 - accuracy: 0.9694 - val_loss: 0.0586 - val_accuracy: 0.9810\n",
      "Epoch 4/60\n",
      "160/160 - 1s - loss: 0.0630 - accuracy: 0.9749 - val_loss: 0.1155 - val_accuracy: 0.9610\n",
      "Epoch 5/60\n",
      "160/160 - 1s - loss: 0.0596 - accuracy: 0.9766 - val_loss: 0.0988 - val_accuracy: 0.9540\n",
      "Epoch 6/60\n",
      "160/160 - 1s - loss: 0.0459 - accuracy: 0.9815 - val_loss: 0.0350 - val_accuracy: 0.9880\n",
      "Epoch 7/60\n",
      "160/160 - 1s - loss: 0.0503 - accuracy: 0.9797 - val_loss: 0.0344 - val_accuracy: 0.9875\n",
      "Epoch 8/60\n",
      "160/160 - 1s - loss: 0.0413 - accuracy: 0.9830 - val_loss: 0.0447 - val_accuracy: 0.9795\n",
      "Epoch 9/60\n",
      "160/160 - 1s - loss: 0.0404 - accuracy: 0.9837 - val_loss: 0.0358 - val_accuracy: 0.9900\n",
      "Epoch 10/60\n",
      "160/160 - 1s - loss: 0.0367 - accuracy: 0.9833 - val_loss: 0.0403 - val_accuracy: 0.9830\n",
      "Epoch 11/60\n",
      "160/160 - 1s - loss: 0.0436 - accuracy: 0.9811 - val_loss: 0.0636 - val_accuracy: 0.9665\n",
      "Epoch 12/60\n",
      "160/160 - 1s - loss: 0.0436 - accuracy: 0.9830 - val_loss: 0.0392 - val_accuracy: 0.9795\n",
      "Epoch 13/60\n",
      "160/160 - 1s - loss: 0.0381 - accuracy: 0.9831 - val_loss: 0.0853 - val_accuracy: 0.9595\n",
      "Epoch 14/60\n",
      "160/160 - 1s - loss: 0.0319 - accuracy: 0.9871 - val_loss: 0.0307 - val_accuracy: 0.9895\n",
      "Epoch 15/60\n",
      "160/160 - 1s - loss: 0.0380 - accuracy: 0.9846 - val_loss: 0.0508 - val_accuracy: 0.9740\n",
      "Epoch 16/60\n",
      "160/160 - 1s - loss: 0.0425 - accuracy: 0.9831 - val_loss: 0.0315 - val_accuracy: 0.9940\n",
      "Epoch 17/60\n",
      "160/160 - 1s - loss: 0.0317 - accuracy: 0.9876 - val_loss: 0.0401 - val_accuracy: 0.9795\n",
      "Epoch 18/60\n",
      "160/160 - 1s - loss: 0.0311 - accuracy: 0.9883 - val_loss: 0.0188 - val_accuracy: 0.9960\n",
      "Epoch 19/60\n",
      "160/160 - 1s - loss: 0.0453 - accuracy: 0.9809 - val_loss: 0.0369 - val_accuracy: 0.9845\n",
      "Epoch 20/60\n",
      "160/160 - 1s - loss: 0.0278 - accuracy: 0.9885 - val_loss: 0.0427 - val_accuracy: 0.9805\n",
      "Epoch 21/60\n",
      "160/160 - 1s - loss: 0.0303 - accuracy: 0.9871 - val_loss: 0.0353 - val_accuracy: 0.9830\n",
      "Epoch 22/60\n",
      "160/160 - 1s - loss: 0.0361 - accuracy: 0.9844 - val_loss: 0.0287 - val_accuracy: 0.9900\n",
      "Epoch 23/60\n",
      "160/160 - 1s - loss: 0.0274 - accuracy: 0.9890 - val_loss: 0.0735 - val_accuracy: 0.9650\n",
      "Epoch 24/60\n",
      "160/160 - 1s - loss: 0.0324 - accuracy: 0.9865 - val_loss: 0.0318 - val_accuracy: 0.9850\n",
      "Epoch 25/60\n",
      "160/160 - 1s - loss: 0.0269 - accuracy: 0.9886 - val_loss: 0.0443 - val_accuracy: 0.9790\n",
      "Epoch 26/60\n",
      "160/160 - 1s - loss: 0.0342 - accuracy: 0.9849 - val_loss: 0.0711 - val_accuracy: 0.9675\n",
      "Epoch 27/60\n",
      "160/160 - 1s - loss: 0.0219 - accuracy: 0.9904 - val_loss: 0.0311 - val_accuracy: 0.9885\n",
      "Epoch 28/60\n",
      "160/160 - 1s - loss: 0.0218 - accuracy: 0.9912 - val_loss: 0.0403 - val_accuracy: 0.9775\n",
      "Epoch 29/60\n",
      "160/160 - 1s - loss: 0.0273 - accuracy: 0.9890 - val_loss: 0.0189 - val_accuracy: 0.9930\n",
      "Epoch 30/60\n",
      "160/160 - 1s - loss: 0.0388 - accuracy: 0.9845 - val_loss: 0.0581 - val_accuracy: 0.9665\n",
      "Epoch 31/60\n",
      "160/160 - 1s - loss: 0.0252 - accuracy: 0.9905 - val_loss: 0.0239 - val_accuracy: 0.9875\n",
      "Epoch 32/60\n",
      "160/160 - 1s - loss: 0.0246 - accuracy: 0.9899 - val_loss: 0.0404 - val_accuracy: 0.9780\n",
      "Epoch 33/60\n",
      "160/160 - 1s - loss: 0.0194 - accuracy: 0.9925 - val_loss: 0.0165 - val_accuracy: 0.9925\n",
      "Epoch 34/60\n",
      "160/160 - 1s - loss: 0.0176 - accuracy: 0.9930 - val_loss: 0.0163 - val_accuracy: 0.9935\n",
      "Epoch 35/60\n",
      "160/160 - 1s - loss: 0.0272 - accuracy: 0.9890 - val_loss: 0.0293 - val_accuracy: 0.9870\n",
      "Epoch 36/60\n",
      "160/160 - 1s - loss: 0.0276 - accuracy: 0.9887 - val_loss: 0.0292 - val_accuracy: 0.9870\n",
      "Epoch 37/60\n",
      "160/160 - 1s - loss: 0.0211 - accuracy: 0.9925 - val_loss: 0.0161 - val_accuracy: 0.9935\n",
      "Epoch 38/60\n",
      "160/160 - 1s - loss: 0.0227 - accuracy: 0.9911 - val_loss: 0.0286 - val_accuracy: 0.9860\n",
      "Epoch 39/60\n",
      "160/160 - 1s - loss: 0.0144 - accuracy: 0.9948 - val_loss: 0.0207 - val_accuracy: 0.9915\n",
      "Epoch 40/60\n",
      "160/160 - 1s - loss: 0.0234 - accuracy: 0.9911 - val_loss: 0.0225 - val_accuracy: 0.9920\n",
      "Epoch 41/60\n",
      "160/160 - 1s - loss: 0.0267 - accuracy: 0.9889 - val_loss: 0.0177 - val_accuracy: 0.9935\n",
      "Epoch 42/60\n",
      "160/160 - 1s - loss: 0.0183 - accuracy: 0.9924 - val_loss: 0.0211 - val_accuracy: 0.9900\n",
      "Epoch 43/60\n",
      "160/160 - 1s - loss: 0.0237 - accuracy: 0.9898 - val_loss: 0.0326 - val_accuracy: 0.9850\n",
      "Epoch 44/60\n",
      "160/160 - 1s - loss: 0.0190 - accuracy: 0.9931 - val_loss: 0.0175 - val_accuracy: 0.9920\n",
      "Epoch 45/60\n",
      "160/160 - 1s - loss: 0.0227 - accuracy: 0.9902 - val_loss: 0.0214 - val_accuracy: 0.9900\n",
      "Epoch 46/60\n",
      "160/160 - 1s - loss: 0.0294 - accuracy: 0.9879 - val_loss: 0.0235 - val_accuracy: 0.9890\n",
      "Epoch 47/60\n",
      "160/160 - 1s - loss: 0.0303 - accuracy: 0.9879 - val_loss: 0.0211 - val_accuracy: 0.9940\n",
      "Epoch 48/60\n",
      "160/160 - 1s - loss: 0.0190 - accuracy: 0.9921 - val_loss: 0.0264 - val_accuracy: 0.9885\n",
      "Epoch 49/60\n",
      "160/160 - 1s - loss: 0.0227 - accuracy: 0.9908 - val_loss: 0.0244 - val_accuracy: 0.9900\n",
      "Epoch 50/60\n",
      "160/160 - 1s - loss: 0.0177 - accuracy: 0.9945 - val_loss: 0.0156 - val_accuracy: 0.9945\n",
      "Epoch 51/60\n",
      "160/160 - 1s - loss: 0.0201 - accuracy: 0.9919 - val_loss: 0.0303 - val_accuracy: 0.9870\n",
      "Epoch 52/60\n",
      "160/160 - 1s - loss: 0.0248 - accuracy: 0.9895 - val_loss: 0.0249 - val_accuracy: 0.9885\n",
      "Epoch 53/60\n",
      "160/160 - 1s - loss: 0.0214 - accuracy: 0.9906 - val_loss: 0.0360 - val_accuracy: 0.9840\n",
      "Epoch 54/60\n",
      "160/160 - 1s - loss: 0.0200 - accuracy: 0.9915 - val_loss: 0.0219 - val_accuracy: 0.9915\n",
      "Epoch 55/60\n",
      "160/160 - 1s - loss: 0.0219 - accuracy: 0.9902 - val_loss: 0.0171 - val_accuracy: 0.9940\n",
      "Epoch 56/60\n",
      "160/160 - 1s - loss: 0.0163 - accuracy: 0.9935 - val_loss: 0.0285 - val_accuracy: 0.9890\n",
      "Epoch 57/60\n",
      "160/160 - 1s - loss: 0.0149 - accuracy: 0.9945 - val_loss: 0.0166 - val_accuracy: 0.9940\n",
      "Epoch 58/60\n",
      "160/160 - 1s - loss: 0.0246 - accuracy: 0.9895 - val_loss: 0.0293 - val_accuracy: 0.9885\n",
      "Epoch 59/60\n",
      "160/160 - 1s - loss: 0.0179 - accuracy: 0.9927 - val_loss: 0.0597 - val_accuracy: 0.9750\n",
      "Epoch 60/60\n",
      "160/160 - 1s - loss: 0.0174 - accuracy: 0.9919 - val_loss: 0.0173 - val_accuracy: 0.9920\n"
     ]
    }
   ],
   "source": [
    "model_hist = model.fit(\n",
    "    train_data, \n",
    "    train_label, \n",
    "    validation_data=(validation_data, validation_label),\n",
    "    batch_size=50, \n",
    "    shuffle=True,\n",
    "    epochs=60,\n",
    "    verbose=2)"
   ]
  },
  {
   "cell_type": "code",
   "execution_count": 9,
   "metadata": {},
   "outputs": [
    {
     "name": "stdout",
     "output_type": "stream",
     "text": [
      "250/250 [==============================] - 1s 3ms/step - loss: 0.0103 - accuracy: 0.9981\n"
     ]
    },
    {
     "data": {
      "text/plain": [
       "[0.010312099009752274, 0.9981250166893005]"
      ]
     },
     "execution_count": 9,
     "metadata": {},
     "output_type": "execute_result"
    }
   ],
   "source": [
    "model.evaluate(x=train_data, y=train_label)"
   ]
  },
  {
   "cell_type": "code",
   "execution_count": 10,
   "metadata": {},
   "outputs": [
    {
     "name": "stdout",
     "output_type": "stream",
     "text": [
      "63/63 [==============================] - 0s 4ms/step - loss: 0.0173 - accuracy: 0.9920\n"
     ]
    },
    {
     "data": {
      "text/plain": [
       "[0.017267920076847076, 0.9919999837875366]"
      ]
     },
     "execution_count": 10,
     "metadata": {},
     "output_type": "execute_result"
    }
   ],
   "source": [
    "model.evaluate(x=validation_data, y=validation_label)"
   ]
  },
  {
   "cell_type": "code",
   "execution_count": 11,
   "metadata": {},
   "outputs": [],
   "source": [
    "train_predict = model.predict(train_data)\n",
    "valid_predict = model.predict(validation_data)"
   ]
  },
  {
   "cell_type": "code",
   "execution_count": 12,
   "metadata": {},
   "outputs": [
    {
     "data": {
      "image/png": "[encoded data removed]",
      "text/plain": [
       "<Figure size 432x288 with 1 Axes>"
      ]
     },
     "metadata": {
      "needs_background": "light"
     },
     "output_type": "display_data"
    }
   ],
   "source": [
    "plt.title('prediction histogram')\n",
    "plt.hist(train_label, bins=4, alpha=0.5, label='training data label', color='blue', density=True)\n",
    "plt.hist(train_predict, bins=4, alpha=0.5, label='training data prediction', color='red', density=True)\n",
    "plt.legend()\n",
    "plt.show()"
   ]
  },
  {
   "cell_type": "code",
   "execution_count": 13,
   "metadata": {},
   "outputs": [
    {
     "data": {
      "image/png": "[encoded data removed]",
      "text/plain": [
       "<Figure size 432x288 with 1 Axes>"
      ]
     },
     "metadata": {
      "needs_background": "light"
     },
     "output_type": "display_data"
    }
   ],
   "source": [
    "plt.title('prediction histogram')\n",
    "plt.hist(validation_label, bins=4, alpha=0.5, label='validation data label', color='blue', density=True)\n",
    "plt.hist(valid_predict, bins=4, alpha=0.5, label='validation data prediction', color='red', density=True)\n",
    "plt.legend()\n",
    "plt.show()"
   ]
  },
  {
   "cell_type": "code",
   "execution_count": 14,
   "metadata": {},
   "outputs": [],
   "source": [
    "from sklearn.metrics import confusion_matrix\n",
    "import seaborn as sns"
   ]
  },
  {
   "cell_type": "code",
   "execution_count": 15,
   "metadata": {},
   "outputs": [
    {
     "data": {
      "image/png": "[encoded data removed]",
      "text/plain": [
       "<Figure size 144x144 with 1 Axes>"
      ]
     },
     "metadata": {
      "needs_background": "light"
     },
     "output_type": "display_data"
    },
    {
     "name": "stdout",
     "output_type": "stream",
     "text": [
      "On the validation data,\n",
      "percentage of class 0 being mistakenly predicted = 0.7%\n",
      "percentage of class 1 being mistakenly predicted = 0.8%\n"
     ]
    }
   ],
   "source": [
    "val_cm = confusion_matrix(validation_label, (valid_predict>0.5).astype(int))\n",
    "\n",
    "plt.figure(figsize=(2,2)) \n",
    "plt.title('Confussion Matrix of Validation Data')\n",
    "\n",
    "sns.heatmap(val_cm, annot=True, fmt='d', cbar=False, cmap='Reds')\n",
    "plt.xlabel('Predicted')\n",
    "plt.ylabel('Ground Truth')\n",
    "plt.show()\n",
    "\n",
    "v_0_r = val_cm[0,1]/val_cm[0,0] * 100\n",
    "v_1_r = val_cm[1,0]/val_cm[1,1] * 100\n",
    "\n",
    "print('On the validation data,')\n",
    "print('percentage of class 0 being mistakenly predicted = {:.1f}%'.format(v_0_r))\n",
    "print('percentage of class 1 being mistakenly predicted = {:.1f}%'.format(v_1_r))"
   ]
  },
  {
   "cell_type": "code",
   "execution_count": 16,
   "metadata": {},
   "outputs": [
    {
     "data": {
      "image/png": "[encoded data removed]",
      "text/plain": [
       "<Figure size 144x144 with 1 Axes>"
      ]
     },
     "metadata": {
      "needs_background": "light"
     },
     "output_type": "display_data"
    },
    {
     "name": "stdout",
     "output_type": "stream",
     "text": [
      "On the training data,\n",
      "percentage of class 0 being mistakenly predicted = 0.2%\n",
      "percentage of class 1 being mistakenly predicted = 0.2%\n"
     ]
    }
   ],
   "source": [
    "train_cm = confusion_matrix(train_label, (train_predict>0.5).astype(int))\n",
    "\n",
    "plt.figure(figsize=(2,2)) \n",
    "plt.title('Confussion Matrix of Training Data')\n",
    "\n",
    "sns.heatmap(train_cm, annot=True, fmt='d', cbar=False, cmap='Reds')\n",
    "plt.xlabel('Predicted')\n",
    "plt.ylabel('Ground Truth')\n",
    "plt.show()\n",
    "\n",
    "t_0_r = train_cm[0,1]/train_cm[0,0] * 100\n",
    "t_1_r = train_cm[1,0]/train_cm[1,1] * 100\n",
    "\n",
    "print('On the training data,')\n",
    "print('percentage of class 0 being mistakenly predicted = {:.1f}%'.format(t_0_r))\n",
    "print('percentage of class 1 being mistakenly predicted = {:.1f}%'.format(t_1_r))"
   ]
  },
  {
   "cell_type": "markdown",
   "metadata": {},
   "source": [
    "<b>Discussion</b>\n",
    "\n",
    "The distribution of he prediction by the LSTM model mimics the distribution of the training data. The accuracy the prediction is also considerably good. However, since the number of data of the classes in not balanced, the prediction error for the class 0 is significantly larger. One can mitigate such dataset by reducing the number of the class 1 data or by synthesizing class 0 data."
   ]
  },
  {
   "cell_type": "code",
   "execution_count": null,
   "metadata": {},
   "outputs": [],
   "source": []
  }
 ],
 "metadata": {
  "kernelspec": {
   "display_name": "Python 3",
   "language": "python",
   "name": "python3"
  },
  "language_info": {
   "codemirror_mode": {
    "name": "ipython",
    "version": 3
   },
   "file_extension": ".py",
   "mimetype": "text/x-python",
   "name": "python",
   "nbconvert_exporter": "python",
   "pygments_lexer": "ipython3",
   "version": "3.8.5"
  }
 },
 "nbformat": 4,
 "nbformat_minor": 4
}
