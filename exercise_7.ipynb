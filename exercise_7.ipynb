{
 "cells": [
  {
   "cell_type": "markdown",
   "metadata": {},
   "source": [
    "Exercise H62.1: LSTM\n",
    "Group Name: PBJ\n",
    "\n",
    "Members:\n",
    "1. Poulami Ghosh\n",
    "2. Bramantyo Ibrahim Supriyatno\n",
    "3. Julie Morgan"
   ]
  },
  {
   "cell_type": "code",
   "execution_count": 1,
   "metadata": {},
   "outputs": [],
   "source": [
    "import numpy as np\n",
    "import matplotlib.pyplot as plt\n",
    "\n",
    "from keras.layers import LSTM, Dense\n",
    "from keras.models import Sequential\n",
    "from keras.optimizers import Adam"
   ]
  },
  {
   "cell_type": "code",
   "execution_count": 2,
   "metadata": {},
   "outputs": [],
   "source": [
    "num_data = 10000\n",
    "seq_length = 30\n",
    "\n",
    "training_ratio = 0.8"
   ]
  },
  {
   "cell_type": "code",
   "execution_count": 3,
   "metadata": {},
   "outputs": [],
   "source": [
    "data = np.random.choice(\n",
    "    a = np.arange(0,9,1),\n",
    "    size = (num_data, seq_length,1))"
   ]
  },
  {
   "cell_type": "code",
   "execution_count": 4,
   "metadata": {},
   "outputs": [],
   "source": [
    "label = np.sum(data, axis=1) >= 100\n",
    "label = label.astype(int)"
   ]
  },
  {
   "cell_type": "code",
   "execution_count": 5,
   "metadata": {},
   "outputs": [],
   "source": [
    "idx = int(training_ratio * num_data)\n",
    "\n",
    "train_data = data[:idx,:,:]\n",
    "validation_data = data[idx:,:,:]\n",
    "\n",
    "train_label = label[:idx]\n",
    "validation_label = label[idx:]"
   ]
  },
  {
   "cell_type": "code",
   "execution_count": 6,
   "metadata": {},
   "outputs": [],
   "source": [
    "lstm = LSTM(units=200, input_shape=(None, 1))\n",
    "output_layer = Dense(units=1, activation='sigmoid')\n",
    "\n",
    "model = Sequential(\n",
    "    [\n",
    "        lstm, \n",
    "        output_layer\n",
    "    ]\n",
    ")"
   ]
  },
  {
   "cell_type": "code",
   "execution_count": 7,
   "metadata": {},
   "outputs": [
    {
     "name": "stdout",
     "output_type": "stream",
     "text": [
      "Model: \"sequential\"\n",
      "_________________________________________________________________\n",
      "Layer (type)                 Output Shape              Param #   \n",
      "=================================================================\n",
      "lstm (LSTM)                  (None, 200)               161600    \n",
      "_________________________________________________________________\n",
      "dense (Dense)                (None, 1)                 201       \n",
      "=================================================================\n",
      "Total params: 161,801\n",
      "Trainable params: 161,801\n",
      "Non-trainable params: 0\n",
      "_________________________________________________________________\n"
     ]
    }
   ],
   "source": [
    "opt_adam = Adam(learning_rate=1e-3, beta_1=0.9, beta_2=0.999, epsilon=1e-8)\n",
    "\n",
    "model.compile(\n",
    "    loss='binary_crossentropy',\n",
    "    optimizer=opt_adam,\n",
    "    metrics=['accuracy']\n",
    ")\n",
    "\n",
    "model.summary()"
   ]
  },
  {
   "cell_type": "code",
   "execution_count": 8,
   "metadata": {},
   "outputs": [
    {
     "name": "stdout",
     "output_type": "stream",
     "text": [
      "Epoch 1/60\n",
      "160/160 - 1s - loss: 0.1941 - accuracy: 0.9264 - val_loss: 0.1427 - val_accuracy: 0.9400\n",
      "Epoch 2/60\n",
      "160/160 - 1s - loss: 0.0973 - accuracy: 0.9595 - val_loss: 0.0652 - val_accuracy: 0.9760\n",
      "Epoch 3/60\n",
      "160/160 - 1s - loss: 0.0829 - accuracy: 0.9651 - val_loss: 0.0934 - val_accuracy: 0.9630\n",
      "Epoch 4/60\n",
      "160/160 - 1s - loss: 0.0691 - accuracy: 0.9700 - val_loss: 0.0560 - val_accuracy: 0.9780\n",
      "Epoch 5/60\n",
      "160/160 - 1s - loss: 0.0710 - accuracy: 0.9740 - val_loss: 0.0755 - val_accuracy: 0.9655\n",
      "Epoch 6/60\n",
      "160/160 - 1s - loss: 0.0651 - accuracy: 0.9739 - val_loss: 0.0407 - val_accuracy: 0.9905\n",
      "Epoch 7/60\n",
      "160/160 - 1s - loss: 0.0565 - accuracy: 0.9746 - val_loss: 0.0936 - val_accuracy: 0.9605\n",
      "Epoch 8/60\n",
      "160/160 - 1s - loss: 0.0479 - accuracy: 0.9815 - val_loss: 0.0365 - val_accuracy: 0.9830\n",
      "Epoch 9/60\n",
      "160/160 - 1s - loss: 0.0406 - accuracy: 0.9827 - val_loss: 0.0566 - val_accuracy: 0.9785\n",
      "Epoch 10/60\n",
      "160/160 - 1s - loss: 0.0409 - accuracy: 0.9815 - val_loss: 0.0505 - val_accuracy: 0.9735\n",
      "Epoch 11/60\n",
      "160/160 - 1s - loss: 0.0455 - accuracy: 0.9812 - val_loss: 0.0404 - val_accuracy: 0.9840\n",
      "Epoch 12/60\n",
      "160/160 - 1s - loss: 0.0464 - accuracy: 0.9806 - val_loss: 0.0518 - val_accuracy: 0.9715\n",
      "Epoch 13/60\n",
      "160/160 - 1s - loss: 0.0388 - accuracy: 0.9826 - val_loss: 0.0308 - val_accuracy: 0.9870\n",
      "Epoch 14/60\n",
      "160/160 - 1s - loss: 0.0384 - accuracy: 0.9833 - val_loss: 0.0661 - val_accuracy: 0.9705\n",
      "Epoch 15/60\n",
      "160/160 - 1s - loss: 0.0359 - accuracy: 0.9845 - val_loss: 0.0714 - val_accuracy: 0.9715\n",
      "Epoch 16/60\n",
      "160/160 - 1s - loss: 0.0350 - accuracy: 0.9856 - val_loss: 0.0273 - val_accuracy: 0.9845\n",
      "Epoch 17/60\n",
      "160/160 - 1s - loss: 0.0346 - accuracy: 0.9852 - val_loss: 0.0387 - val_accuracy: 0.9860\n",
      "Epoch 18/60\n",
      "160/160 - 1s - loss: 0.0343 - accuracy: 0.9847 - val_loss: 0.0255 - val_accuracy: 0.9865\n",
      "Epoch 19/60\n",
      "160/160 - 1s - loss: 0.0442 - accuracy: 0.9812 - val_loss: 0.0602 - val_accuracy: 0.9705\n",
      "Epoch 20/60\n",
      "160/160 - 1s - loss: 0.0320 - accuracy: 0.9865 - val_loss: 0.0310 - val_accuracy: 0.9845\n",
      "Epoch 21/60\n",
      "160/160 - 1s - loss: 0.0381 - accuracy: 0.9829 - val_loss: 0.0229 - val_accuracy: 0.9925\n",
      "Epoch 22/60\n",
      "160/160 - 1s - loss: 0.0297 - accuracy: 0.9883 - val_loss: 0.0218 - val_accuracy: 0.9945\n",
      "Epoch 23/60\n",
      "160/160 - 1s - loss: 0.0221 - accuracy: 0.9914 - val_loss: 0.0203 - val_accuracy: 0.9920\n",
      "Epoch 24/60\n",
      "160/160 - 1s - loss: 0.0309 - accuracy: 0.9850 - val_loss: 0.0262 - val_accuracy: 0.9895\n",
      "Epoch 25/60\n",
      "160/160 - 1s - loss: 0.0447 - accuracy: 0.9816 - val_loss: 0.0284 - val_accuracy: 0.9875\n",
      "Epoch 26/60\n",
      "160/160 - 1s - loss: 0.0281 - accuracy: 0.9894 - val_loss: 0.0626 - val_accuracy: 0.9715\n",
      "Epoch 27/60\n",
      "160/160 - 1s - loss: 0.0255 - accuracy: 0.9895 - val_loss: 0.0241 - val_accuracy: 0.9890\n",
      "Epoch 28/60\n",
      "160/160 - 1s - loss: 0.0254 - accuracy: 0.9887 - val_loss: 0.0279 - val_accuracy: 0.9875\n",
      "Epoch 29/60\n",
      "160/160 - 1s - loss: 0.0228 - accuracy: 0.9900 - val_loss: 0.0248 - val_accuracy: 0.9895\n",
      "Epoch 30/60\n",
      "160/160 - 1s - loss: 0.0258 - accuracy: 0.9904 - val_loss: 0.0409 - val_accuracy: 0.9820\n",
      "Epoch 31/60\n",
      "160/160 - 1s - loss: 0.0320 - accuracy: 0.9869 - val_loss: 0.0400 - val_accuracy: 0.9790\n",
      "Epoch 32/60\n",
      "160/160 - 1s - loss: 0.0242 - accuracy: 0.9898 - val_loss: 0.0440 - val_accuracy: 0.9785\n",
      "Epoch 33/60\n",
      "160/160 - 1s - loss: 0.0285 - accuracy: 0.9879 - val_loss: 0.0218 - val_accuracy: 0.9915\n",
      "Epoch 34/60\n",
      "160/160 - 1s - loss: 0.0296 - accuracy: 0.9875 - val_loss: 0.0412 - val_accuracy: 0.9795\n",
      "Epoch 35/60\n",
      "160/160 - 1s - loss: 0.0257 - accuracy: 0.9890 - val_loss: 0.0198 - val_accuracy: 0.9940\n",
      "Epoch 36/60\n",
      "160/160 - 1s - loss: 0.0196 - accuracy: 0.9924 - val_loss: 0.0483 - val_accuracy: 0.9785\n",
      "Epoch 37/60\n",
      "160/160 - 1s - loss: 0.0306 - accuracy: 0.9869 - val_loss: 0.0326 - val_accuracy: 0.9840\n",
      "Epoch 38/60\n",
      "160/160 - 1s - loss: 0.0207 - accuracy: 0.9927 - val_loss: 0.0308 - val_accuracy: 0.9845\n",
      "Epoch 39/60\n",
      "160/160 - 1s - loss: 0.0203 - accuracy: 0.9915 - val_loss: 0.0437 - val_accuracy: 0.9800\n",
      "Epoch 40/60\n",
      "160/160 - 1s - loss: 0.0242 - accuracy: 0.9909 - val_loss: 0.0216 - val_accuracy: 0.9935\n",
      "Epoch 41/60\n",
      "160/160 - 1s - loss: 0.0211 - accuracy: 0.9916 - val_loss: 0.0237 - val_accuracy: 0.9900\n",
      "Epoch 42/60\n",
      "160/160 - 1s - loss: 0.0239 - accuracy: 0.9904 - val_loss: 0.0309 - val_accuracy: 0.9840\n",
      "Epoch 43/60\n",
      "160/160 - 1s - loss: 0.0300 - accuracy: 0.9871 - val_loss: 0.0415 - val_accuracy: 0.9830\n",
      "Epoch 44/60\n",
      "160/160 - 1s - loss: 0.0341 - accuracy: 0.9865 - val_loss: 0.0205 - val_accuracy: 0.9920\n",
      "Epoch 45/60\n",
      "160/160 - 1s - loss: 0.0205 - accuracy: 0.9927 - val_loss: 0.0211 - val_accuracy: 0.9900\n",
      "Epoch 46/60\n",
      "160/160 - 1s - loss: 0.0232 - accuracy: 0.9906 - val_loss: 0.0189 - val_accuracy: 0.9940\n",
      "Epoch 47/60\n",
      "160/160 - 1s - loss: 0.0179 - accuracy: 0.9930 - val_loss: 0.0175 - val_accuracy: 0.9915\n",
      "Epoch 48/60\n",
      "160/160 - 1s - loss: 0.0249 - accuracy: 0.9890 - val_loss: 0.0393 - val_accuracy: 0.9810\n",
      "Epoch 49/60\n",
      "160/160 - 1s - loss: 0.0204 - accuracy: 0.9920 - val_loss: 0.0527 - val_accuracy: 0.9765\n",
      "Epoch 50/60\n",
      "160/160 - 1s - loss: 0.0254 - accuracy: 0.9885 - val_loss: 0.0442 - val_accuracy: 0.9790\n",
      "Epoch 51/60\n",
      "160/160 - 1s - loss: 0.0196 - accuracy: 0.9921 - val_loss: 0.0243 - val_accuracy: 0.9880\n",
      "Epoch 52/60\n",
      "160/160 - 1s - loss: 0.0301 - accuracy: 0.9874 - val_loss: 0.0475 - val_accuracy: 0.9820\n",
      "Epoch 53/60\n",
      "160/160 - 1s - loss: 0.0218 - accuracy: 0.9916 - val_loss: 0.0239 - val_accuracy: 0.9880\n",
      "Epoch 54/60\n",
      "160/160 - 1s - loss: 0.0242 - accuracy: 0.9898 - val_loss: 0.0521 - val_accuracy: 0.9825\n",
      "Epoch 55/60\n",
      "160/160 - 1s - loss: 0.0206 - accuracy: 0.9908 - val_loss: 0.0265 - val_accuracy: 0.9875\n",
      "Epoch 56/60\n",
      "160/160 - 1s - loss: 0.0217 - accuracy: 0.9904 - val_loss: 0.0315 - val_accuracy: 0.9855\n",
      "Epoch 57/60\n",
      "160/160 - 1s - loss: 0.0163 - accuracy: 0.9942 - val_loss: 0.0151 - val_accuracy: 0.9960\n",
      "Epoch 58/60\n",
      "160/160 - 1s - loss: 0.0205 - accuracy: 0.9911 - val_loss: 0.0173 - val_accuracy: 0.9935\n",
      "Epoch 59/60\n",
      "160/160 - 1s - loss: 0.0142 - accuracy: 0.9958 - val_loss: 0.0162 - val_accuracy: 0.9950\n",
      "Epoch 60/60\n",
      "160/160 - 1s - loss: 0.0145 - accuracy: 0.9940 - val_loss: 0.0170 - val_accuracy: 0.9920\n"
     ]
    }
   ],
   "source": [
    "model_hist = model.fit(\n",
    "    train_data, \n",
    "    train_label, \n",
    "    validation_data=(validation_data, validation_label),\n",
    "    batch_size=50, \n",
    "    shuffle=True,\n",
    "    epochs=60,\n",
    "    verbose=2)"
   ]
  },
  {
   "cell_type": "code",
   "execution_count": 9,
   "metadata": {},
   "outputs": [
    {
     "name": "stdout",
     "output_type": "stream",
     "text": [
      "250/250 [==============================] - 1s 4ms/step - loss: 0.0105 - accuracy: 0.9961\n"
     ]
    },
    {
     "data": {
      "text/plain": [
       "[0.01053546741604805, 0.9961249828338623]"
      ]
     },
     "execution_count": 9,
     "metadata": {},
     "output_type": "execute_result"
    }
   ],
   "source": [
    "model.evaluate(x=train_data, y=train_label)"
   ]
  },
  {
   "cell_type": "code",
   "execution_count": 10,
   "metadata": {},
   "outputs": [
    {
     "name": "stdout",
     "output_type": "stream",
     "text": [
      "63/63 [==============================] - 0s 4ms/step - loss: 0.0170 - accuracy: 0.9920\n"
     ]
    },
    {
     "data": {
      "text/plain": [
       "[0.017037440091371536, 0.9919999837875366]"
      ]
     },
     "execution_count": 10,
     "metadata": {},
     "output_type": "execute_result"
    }
   ],
   "source": [
    "model.evaluate(x=validation_data, y=validation_label)"
   ]
  },
  {
   "cell_type": "code",
   "execution_count": 11,
   "metadata": {},
   "outputs": [],
   "source": [
    "train_predict = model.predict(train_data)\n",
    "valid_predict = model.predict(validation_data)"
   ]
  },
  {
   "cell_type": "code",
   "execution_count": 14,
   "metadata": {},
   "outputs": [
    {
     "data": {
      "image/png": "[encoded data removed]",
      "text/plain": [
       "<Figure size 432x288 with 1 Axes>"
      ]
     },
     "metadata": {
      "needs_background": "light"
     },
     "output_type": "display_data"
    }
   ],
   "source": [
    "plt.title('prediction histogram')\n",
    "plt.hist(train_label, bins=4, alpha=0.5, label='training data label', color='blue', density=True)\n",
    "plt.hist(train_predict, bins=4, alpha=0.5, label='training data prediction', color='red', density=True)\n",
    "plt.legend()\n",
    "plt.show()"
   ]
  },
  {
   "cell_type": "code",
   "execution_count": 15,
   "metadata": {},
   "outputs": [
    {
     "data": {
      "image/png": "[encoded data removed]",
      "text/plain": [
       "<Figure size 432x288 with 1 Axes>"
      ]
     },
     "metadata": {
      "needs_background": "light"
     },
     "output_type": "display_data"
    }
   ],
   "source": [
    "plt.title('prediction histogram')\n",
    "plt.hist(validation_label, bins=4, alpha=0.5, label='validation data label', color='blue', density=True)\n",
    "plt.hist(valid_predict, bins=4, alpha=0.5, label='validation data prediction', color='red', density=True)\n",
    "plt.legend()\n",
    "plt.show()"
   ]
  },
  {
   "cell_type": "code",
   "execution_count": 19,
   "metadata": {},
   "outputs": [],
   "source": [
    "from sklearn.metrics import confusion_matrix\n",
    "import seaborn as sns"
   ]
  },
  {
   "cell_type": "code",
   "execution_count": 50,
   "metadata": {},
   "outputs": [
    {
     "data": {
      "image/png": "[encoded data removed]",
      "text/plain": [
       "<Figure size 144x144 with 1 Axes>"
      ]
     },
     "metadata": {
      "needs_background": "light"
     },
     "output_type": "display_data"
    },
    {
     "name": "stdout",
     "output_type": "stream",
     "text": [
      "On the validation data,\n",
      "percentage of class 0 being mistakenly predicted = 7.9%\n",
      "percentage of class 1 being mistakenly predicted = 0.3%\n"
     ]
    }
   ],
   "source": [
    "val_cm = confusion_matrix(validation_label, (valid_predict>0.5).astype(int))\n",
    "\n",
    "plt.figure(figsize=(2,2)) \n",
    "plt.title('Confussion Matrix of Validation Data')\n",
    "\n",
    "sns.heatmap(val_cm, annot=True, fmt='d', cbar=False, cmap='Reds')\n",
    "plt.xlabel('Predicted')\n",
    "plt.ylabel('Ground Truth')\n",
    "plt.show()\n",
    "\n",
    "v_0_r = val_cm[0,1]/val_cm[0,0] * 100\n",
    "v_1_r = val_cm[1,0]/val_cm[1,1] * 100\n",
    "\n",
    "print('On the validation data,')\n",
    "print('percentage of class 0 being mistakenly predicted = {:.1f}%'.format(v_0_r))\n",
    "print('percentage of class 1 being mistakenly predicted = {:.1f}%'.format(v_1_r))"
   ]
  },
  {
   "cell_type": "code",
   "execution_count": 51,
   "metadata": {},
   "outputs": [
    {
     "data": {
      "image/png": "[encoded data removed]",
      "text/plain": [
       "<Figure size 144x144 with 1 Axes>"
      ]
     },
     "metadata": {
      "needs_background": "light"
     },
     "output_type": "display_data"
    },
    {
     "name": "stdout",
     "output_type": "stream",
     "text": [
      "On the training data,\n",
      "percentage of class 0 being mistakenly predicted = 4.7%\n",
      "percentage of class 1 being mistakenly predicted = 0.1%\n"
     ]
    }
   ],
   "source": [
    "train_cm = confusion_matrix(train_label, (train_predict>0.5).astype(int))\n",
    "\n",
    "plt.figure(figsize=(2,2)) \n",
    "plt.title('Confussion Matrix of Training Data')\n",
    "\n",
    "sns.heatmap(train_cm, annot=True, fmt='d', cbar=False, cmap='Reds')\n",
    "plt.xlabel('Predicted')\n",
    "plt.ylabel('Ground Truth')\n",
    "plt.show()\n",
    "\n",
    "t_0_r = train_cm[0,1]/train_cm[0,0] * 100\n",
    "t_1_r = train_cm[1,0]/train_cm[1,1] * 100\n",
    "\n",
    "print('On the training data,')\n",
    "print('percentage of class 0 being mistakenly predicted = {:.1f}%'.format(t_0_r))\n",
    "print('percentage of class 1 being mistakenly predicted = {:.1f}%'.format(t_1_r))"
   ]
  },
  {
   "cell_type": "markdown",
   "metadata": {},
   "source": [
    "<b>Discussion</b>\n",
    "\n",
    "The distribution of he prediction by the LSTM model mimics the distribution of the training data. The accuracy the prediction is also considerably good. However, since the number of data of the classes in not balanced, the prediction error for the class 0 is significantly larger. One can mitigate such dataset by reducing the number of the class 1 data or by synthesizing class 0 data."
   ]
  },
  {
   "cell_type": "code",
   "execution_count": null,
   "metadata": {},
   "outputs": [],
   "source": []
  }
 ],
 "metadata": {
  "kernelspec": {
   "display_name": "Python 3",
   "language": "python",
   "name": "python3"
  },
  "language_info": {
   "codemirror_mode": {
    "name": "ipython",
    "version": 3
   },
   "file_extension": ".py",
   "mimetype": "text/x-python",
   "name": "python",
   "nbconvert_exporter": "python",
   "pygments_lexer": "ipython3",
   "version": "3.8.5"
  }
 },
 "nbformat": 4,
 "nbformat_minor": 4
}
