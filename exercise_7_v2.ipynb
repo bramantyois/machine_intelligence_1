{
 "cells": [
  {
   "cell_type": "code",
   "execution_count": 1,
   "metadata": {},
   "outputs": [],
   "source": [
    "import numpy as np\n",
    "import matplotlib.pyplot as plt\n",
    "\n",
    "from keras.layers import LSTM, SimpleRNN, Dense\n",
    "from keras.models import Sequential\n",
    "from keras.optimizers import Adam"
   ]
  },
  {
   "cell_type": "code",
   "execution_count": 2,
   "metadata": {},
   "outputs": [],
   "source": [
    "num_data = 10000\n",
    "seq_length = 30\n",
    "\n",
    "training_ratio = 0.8"
   ]
  },
  {
   "cell_type": "code",
   "execution_count": 3,
   "metadata": {},
   "outputs": [],
   "source": [
    "data = np.random.choice(\n",
    "    a = np.arange(0,9,1),\n",
    "    size = (num_data, seq_length,1))"
   ]
  },
  {
   "cell_type": "code",
   "execution_count": 4,
   "metadata": {},
   "outputs": [],
   "source": [
    "label = np.sum(data, axis=1) >= 100\n",
    "label = label.astype(int)"
   ]
  },
  {
   "cell_type": "code",
   "execution_count": 5,
   "metadata": {},
   "outputs": [],
   "source": [
    "idx = int(training_ratio * num_data)\n",
    "\n",
    "train_data = data[:idx,:,:]\n",
    "validation_data = data[idx:,:,:]\n",
    "\n",
    "train_label = label[:idx]\n",
    "validation_label = label[idx:]"
   ]
  },
  {
   "cell_type": "code",
   "execution_count": 24,
   "metadata": {},
   "outputs": [
    {
     "name": "stdout",
     "output_type": "stream",
     "text": [
      "Model: \"sequential_4\"\n",
      "_________________________________________________________________\n",
      "Layer (type)                 Output Shape              Param #   \n",
      "=================================================================\n",
      "simple_rnn_3 (SimpleRNN)     (None, 1)                 3         \n",
      "_________________________________________________________________\n",
      "dense_4 (Dense)              (None, 1)                 2         \n",
      "=================================================================\n",
      "Total params: 5\n",
      "Trainable params: 5\n",
      "Non-trainable params: 0\n",
      "_________________________________________________________________\n"
     ]
    }
   ],
   "source": [
    "lstm = SimpleRNN(units=1, input_shape=(None, 1))\n",
    "output_layer = Dense(units=1, activation='sigmoid')\n",
    "\n",
    "model = Sequential(\n",
    "    [\n",
    "        lstm, \n",
    "        output_layer\n",
    "    ]\n",
    ")\n",
    "model.summary()"
   ]
  },
  {
   "cell_type": "code",
   "execution_count": 25,
   "metadata": {},
   "outputs": [],
   "source": [
    "opt_adam = Adam(learning_rate=1e-3, beta_1=0.9, beta_2=0.999, epsilon=1e-8)\n",
    "\n",
    "model.compile(\n",
    "    loss='binary_crossentropy',\n",
    "    optimizer=opt_adam,\n",
    "    metrics=['accuracy']\n",
    ")"
   ]
  },
  {
   "cell_type": "code",
   "execution_count": 26,
   "metadata": {},
   "outputs": [
    {
     "name": "stdout",
     "output_type": "stream",
     "text": [
      "Epoch 1/60\n",
      "160/160 - 3s - loss: 1.4159 - accuracy: 0.0714 - val_loss: 1.2965 - val_accuracy: 0.0770\n",
      "Epoch 2/60\n",
      "160/160 - 2s - loss: 1.1952 - accuracy: 0.0746 - val_loss: 1.0925 - val_accuracy: 0.0815\n",
      "Epoch 3/60\n",
      "160/160 - 2s - loss: 1.0022 - accuracy: 0.1335 - val_loss: 0.9159 - val_accuracy: 0.1510\n",
      "Epoch 4/60\n",
      "160/160 - 2s - loss: 0.8285 - accuracy: 0.2039 - val_loss: 0.7434 - val_accuracy: 0.2975\n",
      "Epoch 5/60\n",
      "160/160 - 3s - loss: 0.5419 - accuracy: 0.6785 - val_loss: 0.3417 - val_accuracy: 0.9230\n",
      "Epoch 6/60\n",
      "160/160 - 2s - loss: 0.3173 - accuracy: 0.9286 - val_loss: 0.3161 - val_accuracy: 0.9230\n",
      "Epoch 7/60\n",
      "160/160 - 2s - loss: 0.3022 - accuracy: 0.9286 - val_loss: 0.3061 - val_accuracy: 0.9230\n",
      "Epoch 8/60\n",
      "160/160 - 2s - loss: 0.2932 - accuracy: 0.9286 - val_loss: 0.2986 - val_accuracy: 0.9230\n",
      "Epoch 9/60\n",
      "160/160 - 2s - loss: 0.2860 - accuracy: 0.9286 - val_loss: 0.2927 - val_accuracy: 0.9230\n",
      "Epoch 10/60\n",
      "160/160 - 3s - loss: 0.2802 - accuracy: 0.9286 - val_loss: 0.2878 - val_accuracy: 0.9230\n",
      "Epoch 11/60\n",
      "160/160 - 2s - loss: 0.2754 - accuracy: 0.9286 - val_loss: 0.2838 - val_accuracy: 0.9230\n",
      "Epoch 12/60\n",
      "160/160 - 2s - loss: 0.2714 - accuracy: 0.9286 - val_loss: 0.2806 - val_accuracy: 0.9230\n",
      "Epoch 13/60\n",
      "160/160 - 2s - loss: 0.2681 - accuracy: 0.9286 - val_loss: 0.2780 - val_accuracy: 0.9230\n",
      "Epoch 14/60\n",
      "160/160 - 2s - loss: 0.2654 - accuracy: 0.9286 - val_loss: 0.2759 - val_accuracy: 0.9230\n",
      "Epoch 15/60\n",
      "160/160 - 2s - loss: 0.2632 - accuracy: 0.9286 - val_loss: 0.2743 - val_accuracy: 0.9230\n",
      "Epoch 16/60\n",
      "160/160 - 2s - loss: 0.2615 - accuracy: 0.9286 - val_loss: 0.2731 - val_accuracy: 0.9230\n",
      "Epoch 17/60\n",
      "160/160 - 2s - loss: 0.2602 - accuracy: 0.9286 - val_loss: 0.2722 - val_accuracy: 0.9230\n",
      "Epoch 18/60\n",
      "160/160 - 2s - loss: 0.2591 - accuracy: 0.9286 - val_loss: 0.2715 - val_accuracy: 0.9230\n",
      "Epoch 19/60\n",
      "160/160 - 2s - loss: 0.2583 - accuracy: 0.9286 - val_loss: 0.2710 - val_accuracy: 0.9230\n",
      "Epoch 20/60\n",
      "160/160 - 2s - loss: 0.2577 - accuracy: 0.9286 - val_loss: 0.2706 - val_accuracy: 0.9230\n",
      "Epoch 21/60\n",
      "160/160 - 2s - loss: 0.2572 - accuracy: 0.9286 - val_loss: 0.2704 - val_accuracy: 0.9230\n",
      "Epoch 22/60\n",
      "160/160 - 2s - loss: 0.2568 - accuracy: 0.9286 - val_loss: 0.2702 - val_accuracy: 0.9230\n",
      "Epoch 23/60\n",
      "160/160 - 2s - loss: 0.2566 - accuracy: 0.9286 - val_loss: 0.2701 - val_accuracy: 0.9230\n",
      "Epoch 24/60\n",
      "160/160 - 2s - loss: 0.2563 - accuracy: 0.9286 - val_loss: 0.2700 - val_accuracy: 0.9230\n",
      "Epoch 25/60\n",
      "160/160 - 2s - loss: 0.2562 - accuracy: 0.9286 - val_loss: 0.2699 - val_accuracy: 0.9230\n",
      "Epoch 26/60\n",
      "160/160 - 2s - loss: 0.2560 - accuracy: 0.9286 - val_loss: 0.2697 - val_accuracy: 0.9230\n",
      "Epoch 27/60\n",
      "160/160 - 2s - loss: 0.2558 - accuracy: 0.9286 - val_loss: 0.2695 - val_accuracy: 0.9230\n",
      "Epoch 28/60\n",
      "160/160 - 2s - loss: 0.2555 - accuracy: 0.9286 - val_loss: 0.2693 - val_accuracy: 0.9230\n",
      "Epoch 29/60\n",
      "160/160 - 2s - loss: 0.2553 - accuracy: 0.9286 - val_loss: 0.2689 - val_accuracy: 0.9230\n",
      "Epoch 30/60\n",
      "160/160 - 2s - loss: 0.2549 - accuracy: 0.9286 - val_loss: 0.2685 - val_accuracy: 0.9230\n",
      "Epoch 31/60\n",
      "160/160 - 2s - loss: 0.2545 - accuracy: 0.9286 - val_loss: 0.2679 - val_accuracy: 0.9230\n",
      "Epoch 32/60\n",
      "160/160 - 2s - loss: 0.2541 - accuracy: 0.9286 - val_loss: 0.2673 - val_accuracy: 0.9230\n",
      "Epoch 33/60\n",
      "160/160 - 2s - loss: 0.2536 - accuracy: 0.9286 - val_loss: 0.2667 - val_accuracy: 0.9230\n",
      "Epoch 34/60\n",
      "160/160 - 3s - loss: 0.2531 - accuracy: 0.9286 - val_loss: 0.2661 - val_accuracy: 0.9230\n",
      "Epoch 35/60\n",
      "160/160 - 2s - loss: 0.2527 - accuracy: 0.9286 - val_loss: 0.2657 - val_accuracy: 0.9230\n",
      "Epoch 36/60\n",
      "160/160 - 2s - loss: 0.2523 - accuracy: 0.9286 - val_loss: 0.2654 - val_accuracy: 0.9230\n",
      "Epoch 37/60\n",
      "160/160 - 2s - loss: 0.2521 - accuracy: 0.9286 - val_loss: 0.2650 - val_accuracy: 0.9230\n",
      "Epoch 38/60\n",
      "160/160 - 2s - loss: 0.2519 - accuracy: 0.9286 - val_loss: 0.2648 - val_accuracy: 0.9230\n",
      "Epoch 39/60\n",
      "160/160 - 2s - loss: 0.2517 - accuracy: 0.9286 - val_loss: 0.2647 - val_accuracy: 0.9230\n",
      "Epoch 40/60\n",
      "160/160 - 2s - loss: 0.2516 - accuracy: 0.9286 - val_loss: 0.2645 - val_accuracy: 0.9230\n",
      "Epoch 41/60\n",
      "160/160 - 2s - loss: 0.2514 - accuracy: 0.9286 - val_loss: 0.2645 - val_accuracy: 0.9230\n",
      "Epoch 42/60\n",
      "160/160 - 2s - loss: 0.2513 - accuracy: 0.9286 - val_loss: 0.2644 - val_accuracy: 0.9230\n",
      "Epoch 43/60\n",
      "160/160 - 2s - loss: 0.2513 - accuracy: 0.9286 - val_loss: 0.2643 - val_accuracy: 0.9230\n",
      "Epoch 44/60\n",
      "160/160 - 3s - loss: 0.2512 - accuracy: 0.9286 - val_loss: 0.2643 - val_accuracy: 0.9230\n",
      "Epoch 45/60\n",
      "160/160 - 2s - loss: 0.2512 - accuracy: 0.9286 - val_loss: 0.2642 - val_accuracy: 0.9230\n",
      "Epoch 46/60\n",
      "160/160 - 3s - loss: 0.2511 - accuracy: 0.9286 - val_loss: 0.2641 - val_accuracy: 0.9230\n",
      "Epoch 47/60\n",
      "160/160 - 2s - loss: 0.2510 - accuracy: 0.9286 - val_loss: 0.2641 - val_accuracy: 0.9230\n",
      "Epoch 48/60\n",
      "160/160 - 2s - loss: 0.2511 - accuracy: 0.9286 - val_loss: 0.2642 - val_accuracy: 0.9230\n",
      "Epoch 49/60\n",
      "160/160 - 2s - loss: 0.2510 - accuracy: 0.9286 - val_loss: 0.2640 - val_accuracy: 0.9230\n",
      "Epoch 50/60\n",
      "160/160 - 2s - loss: 0.2509 - accuracy: 0.9286 - val_loss: 0.2639 - val_accuracy: 0.9230\n",
      "Epoch 51/60\n",
      "160/160 - 2s - loss: 0.2509 - accuracy: 0.9286 - val_loss: 0.2639 - val_accuracy: 0.9230\n",
      "Epoch 52/60\n",
      "160/160 - 3s - loss: 0.2508 - accuracy: 0.9286 - val_loss: 0.2638 - val_accuracy: 0.9230\n",
      "Epoch 53/60\n",
      "160/160 - 2s - loss: 0.2508 - accuracy: 0.9286 - val_loss: 0.2638 - val_accuracy: 0.9230\n",
      "Epoch 54/60\n",
      "160/160 - 2s - loss: 0.2507 - accuracy: 0.9286 - val_loss: 0.2638 - val_accuracy: 0.9230\n",
      "Epoch 55/60\n",
      "160/160 - 2s - loss: 0.2507 - accuracy: 0.9286 - val_loss: 0.2636 - val_accuracy: 0.9230\n",
      "Epoch 56/60\n",
      "160/160 - 2s - loss: 0.2506 - accuracy: 0.9286 - val_loss: 0.2636 - val_accuracy: 0.9230\n",
      "Epoch 57/60\n",
      "160/160 - 2s - loss: 0.2505 - accuracy: 0.9286 - val_loss: 0.2635 - val_accuracy: 0.9230\n",
      "Epoch 58/60\n",
      "160/160 - 2s - loss: 0.2505 - accuracy: 0.9286 - val_loss: 0.2634 - val_accuracy: 0.9230\n",
      "Epoch 59/60\n",
      "160/160 - 2s - loss: 0.2504 - accuracy: 0.9286 - val_loss: 0.2632 - val_accuracy: 0.9230\n",
      "Epoch 60/60\n",
      "160/160 - 2s - loss: 0.2504 - accuracy: 0.9286 - val_loss: 0.2632 - val_accuracy: 0.9230\n"
     ]
    }
   ],
   "source": [
    "model_hist = model.fit(\n",
    "    train_data, \n",
    "    train_label, \n",
    "    validation_data=(validation_data, validation_label),\n",
    "    batch_size=50, \n",
    "    shuffle=True,\n",
    "    epochs=60,\n",
    "    verbose=2)"
   ]
  },
  {
   "cell_type": "code",
   "execution_count": 27,
   "metadata": {},
   "outputs": [
    {
     "name": "stdout",
     "output_type": "stream",
     "text": [
      "250/250 [==============================] - 2s 6ms/step - loss: 0.2503 - accuracy: 0.9286\n"
     ]
    },
    {
     "data": {
      "text/plain": [
       "[0.25025343894958496, 0.9286249876022339]"
      ]
     },
     "execution_count": 27,
     "metadata": {},
     "output_type": "execute_result"
    }
   ],
   "source": [
    "model.evaluate(x=train_data, y=train_label)"
   ]
  },
  {
   "cell_type": "code",
   "execution_count": 28,
   "metadata": {},
   "outputs": [
    {
     "name": "stdout",
     "output_type": "stream",
     "text": [
      "63/63 [==============================] - 0s 7ms/step - loss: 0.2632 - accuracy: 0.9230\n"
     ]
    },
    {
     "data": {
      "text/plain": [
       "[0.2631676495075226, 0.9229999780654907]"
      ]
     },
     "execution_count": 28,
     "metadata": {},
     "output_type": "execute_result"
    }
   ],
   "source": [
    "model.evaluate(x=validation_data, y=validation_label)"
   ]
  },
  {
   "cell_type": "code",
   "execution_count": 29,
   "metadata": {},
   "outputs": [],
   "source": [
    "train_predict = model.predict(train_data)\n",
    "valid_predict = model.predict(validation_data)"
   ]
  },
  {
   "cell_type": "code",
   "execution_count": 32,
   "metadata": {},
   "outputs": [
    {
     "data": {
      "image/png": "[encoded data removed]",
      "text/plain": [
       "<Figure size 432x288 with 1 Axes>"
      ]
     },
     "metadata": {
      "needs_background": "light"
     },
     "output_type": "display_data"
    }
   ],
   "source": [
    "\n",
    "plt.hist(train_label, bins=2, alpha=0.5, label='training data label', color='blue', density=True)\n",
    "plt.hist(train_predict, bins=2, alpha=0.5, label='training data prediction', color='red', density=True)\n",
    "plt.legend()\n",
    "plt.show()"
   ]
  },
  {
   "cell_type": "code",
   "execution_count": 33,
   "metadata": {},
   "outputs": [
    {
     "data": {
      "image/png": "[encoded data removed]",
      "text/plain": [
       "<Figure size 432x288 with 1 Axes>"
      ]
     },
     "metadata": {
      "needs_background": "light"
     },
     "output_type": "display_data"
    }
   ],
   "source": [
    "plt.hist(validation_label, bins=2, alpha=0.5, label='validation data label', color='blue', density=True)\n",
    "plt.hist(valid_predict, bins=2, alpha=0.5, label='validation data prediction', color='red', density=True)\n",
    "plt.legend()\n",
    "plt.show()"
   ]
  },
  {
   "cell_type": "code",
   "execution_count": null,
   "metadata": {},
   "outputs": [],
   "source": []
  }
 ],
 "metadata": {
  "kernelspec": {
   "display_name": "Python 3",
   "language": "python",
   "name": "python3"
  },
  "language_info": {
   "codemirror_mode": {
    "name": "ipython",
    "version": 3
   },
   "file_extension": ".py",
   "mimetype": "text/x-python",
   "name": "python",
   "nbconvert_exporter": "python",
   "pygments_lexer": "ipython3",
   "version": "3.8.5"
  }
 },
 "nbformat": 4,
 "nbformat_minor": 4
}
